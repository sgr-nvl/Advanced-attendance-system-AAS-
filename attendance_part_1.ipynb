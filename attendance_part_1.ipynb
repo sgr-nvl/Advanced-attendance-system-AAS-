{
 "cells": [
  {
   "cell_type": "code",
   "execution_count": 31,
   "id": "b3f12c35",
   "metadata": {},
   "outputs": [],
   "source": [
    "import cv2\n",
    "\n",
    "import numpy as np\n",
    "import os "
   ]
  },
  {
   "cell_type": "code",
   "execution_count": 32,
   "id": "243b4241",
   "metadata": {},
   "outputs": [],
   "source": [
    "import pickle"
   ]
  },
  {
   "cell_type": "markdown",
   "id": "4127f760",
   "metadata": {},
   "source": [
    "The pickle module is useful when you want to save the state of your Python objects to disk, transfer data between different systems, or cache data for faster access in subsequent executions of your program."
   ]
  },
  {
   "cell_type": "code",
   "execution_count": 33,
   "id": "de6e20f7",
   "metadata": {},
   "outputs": [],
   "source": [
    "video = cv2.VideoCapture(0) # here 0 for inbuilt webcam and 1 for external camera"
   ]
  },
  {
   "cell_type": "markdown",
   "id": "87958df2",
   "metadata": {},
   "source": [
    "In order to create here one camera we need to also create here one capture object in order to capture the frame."
   ]
  },
  {
   "cell_type": "code",
   "execution_count": 34,
   "id": "f0bca63e",
   "metadata": {},
   "outputs": [],
   "source": [
    "#CASCADE CLASSIFICATION\n",
    "facedetect = cv2.CascadeClassifier(r\"C:\\Users\\Abhishek\\AppData\\Roaming\\Python\\Python39\\site-packages\\cv2\\data\\haarcascade_frontalface_default.xml\")"
   ]
  },
  {
   "cell_type": "markdown",
   "id": "20bc0302",
   "metadata": {},
   "source": [
    "Cascade Classifier is an object detection algorithm used for identifying objects in images or video frames."
   ]
  },
  {
   "cell_type": "code",
   "execution_count": 35,
   "id": "b44b0065",
   "metadata": {},
   "outputs": [
    {
     "name": "stdout",
     "output_type": "stream",
     "text": [
      "Enter Your Name:Abhishek sain\n"
     ]
    }
   ],
   "source": [
    "face_data=[]\n",
    "i=0\n",
    "\n",
    "name=input(\"Enter Your Name:\") # Username\n",
    "while True:   # for infinite loop\n",
    "    ret,frame=video.read()   #video.read gives us 2 values no. 1 for Boolean below that our webcame is okay or not and 2 value is for our frame\n",
    "    gray = cv2.cvtColor(frame,cv2.COLOR_BGR2GRAY)\n",
    "    faces = facedetect.detectMultiScale(gray,1.3,5)      #it will give us 4dimensions (x,y)cordinates,height,width of the image,it is used to detect objects such as faces in an image. It searches for the presence of the specified object at different scales (sizes) within the image. This allows it to detect objects of varying sizes in the image.\n",
    "    for (x,y,w,h) in faces:\n",
    "        crop_img = frame[y:y+h, x:x+w, :]    #this id used for crop our face from the image.\n",
    "        \n",
    "        resized_img = cv2.resize(crop_img, (50,50))   #resize the frame\n",
    "        \n",
    "        if len(face_data)<100 and i %10==0:\n",
    "            face_data.append(resized_img)\n",
    "        i=i+1\n",
    "        cv2.putText(frame, str(len(face_data)), (50,50), cv2.FONT_HERSHEY_DUPLEX,1,(50,50,255),1)  #The cv2.putText function is part of the OpenCV library and it is used to draw text on an image\n",
    "        cv2.rectangle(frame,(x,y),(x+w,y+h),(255,0,255),1)\n",
    "    cv2.imshow(\"frame\",frame)\n",
    "    k = cv2.waitKey(1)    #It is a method to display an image in a window and wait for a keyboard event to occur before proceeding with the rest of the code execution.\n",
    "    if k==ord(\"q\") or len(face_data)==100: #We passing q from keyboard this infinte loop will be gone and and our video frame will gone\n",
    "        break\n",
    "    \n",
    "video.release()  # for release the video \n",
    "cv2.destroyAllWindows()\n"
   ]
  },
  {
   "cell_type": "markdown",
   "id": "918fa488",
   "metadata": {},
   "source": [
    "# creating file in system"
   ]
  },
  {
   "cell_type": "code",
   "execution_count": 36,
   "id": "12ba82cf",
   "metadata": {},
   "outputs": [],
   "source": [
    "\n",
    "#converting face data into numpy \n",
    "face_data = np.asarray(face_data) \n",
    "face_data = face_data.reshape(100,-1)\n",
    "\n",
    "#creating file in system\n",
    "#creating pkl file of name data in system\n",
    "if \"names.pkl\" not in os.listdir(r\"F:\\attendance\"):  #os.listdir helps us to create here one list directory of our files\n",
    "    names=[name]*100\n",
    "    with open(r\"F:\\attendance\\names.pkl\",\"wb\") as f: # from this we create a new file\n",
    "        pickle.dump(names,f) #This function is used to serialize a Python object obj and save it to a file-like object file\n",
    "else:\n",
    "    with open(r\"F:\\attendance\\names.pkl\",\"rb\") as f:  #r: Read mode. This is the default mode for opening files. It allows reading data from an existing file.\n",
    "        names = pickle.load(f)  #The pickle.load function is used to deserialize and load data from a file-like object that was previously serialized using pickle.dump\n",
    "    names=names+[name]*100\n",
    "    with open(r\"F:\\attendance\\names.pkl\",\"wb\") as f: #w: Write mode.If the file does not exist, it will be created.\n",
    "        pickle.dump(names,f)                         #b: Binary mode. This mode is used for reading and writing binary data. It is commonly used when working with non-text files, such as images, audio,\n",
    "                                                     \n",
    "        \n",
    "#creating pkl file of face data in system\n",
    "if \"faces_data.pkl\" not in os.listdir(r\"F:\\attendance\"):\n",
    "    with open(r\"F:\\attendance\\faces_data.pkl\",\"wb\") as f:\n",
    "        pickle.dump(face_data,f)\n",
    "else:\n",
    "    with open(r\"F:\\attendance\\faces_data.pkl\",\"rb\") as f:\n",
    "        faces = pickle.load(f)\n",
    "    faces = np.append(faces,face_data,axis=0)\n",
    "    with open(r\"F:\\attendance\\faces_data.pkl\",\"wb\") as f:\n",
    "        pickle.dump(faces,f)\n"
   ]
  },
  {
   "cell_type": "code",
   "execution_count": null,
   "id": "7090f647",
   "metadata": {},
   "outputs": [],
   "source": []
  }
 ],
 "metadata": {
  "kernelspec": {
   "display_name": "Python 3 (ipykernel)",
   "language": "python",
   "name": "python3"
  },
  "language_info": {
   "codemirror_mode": {
    "name": "ipython",
    "version": 3
   },
   "file_extension": ".py",
   "mimetype": "text/x-python",
   "name": "python",
   "nbconvert_exporter": "python",
   "pygments_lexer": "ipython3",
   "version": "3.9.13"
  }
 },
 "nbformat": 4,
 "nbformat_minor": 5
}
